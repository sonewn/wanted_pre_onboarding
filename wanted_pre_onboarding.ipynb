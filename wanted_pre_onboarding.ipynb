{
  "nbformat": 4,
  "nbformat_minor": 0,
  "metadata": {
    "colab": {
      "name": "wanted_pre_onboarding",
      "provenance": [],
      "collapsed_sections": [],
      "authorship_tag": "ABX9TyOoN4xaN8BO5YuSS4LsZi4Y",
      "include_colab_link": true
    },
    "kernelspec": {
      "name": "python3",
      "display_name": "Python 3"
    },
    "language_info": {
      "name": "python"
    }
  },
  "cells": [
    {
      "cell_type": "markdown",
      "metadata": {
        "id": "view-in-github",
        "colab_type": "text"
      },
      "source": [
        "<a href=\"https://colab.research.google.com/github/sonewn/wanted_pre_onboarding/blob/main/wanted_pre_onboarding.ipynb\" target=\"_parent\"><img src=\"https://colab.research.google.com/assets/colab-badge.svg\" alt=\"Open In Colab\"/></a>"
      ]
    },
    {
      "cell_type": "code",
      "source": [
        "import pandas as pd\n",
        "import numpy as np\n",
        "from math import log\n",
        "from tensorflow.keras.preprocessing.text import text_to_word_sequence"
      ],
      "metadata": {
        "id": "AeuPE_yfwgmQ"
      },
      "execution_count": 1,
      "outputs": []
    },
    {
      "cell_type": "markdown",
      "source": [
        "# 문제 1) Tokenizer 생성하기\n",
        "\n",
        "\n"
      ],
      "metadata": {
        "id": "EZHt9hK3TTD5"
      }
    },
    {
      "cell_type": "code",
      "source": [
        "class Tokenizer():\n",
        "    def __init__(self):\n",
        "        self.word_dict = {'oov': 0}\n",
        "        self.fit_checker = False\n",
        "  \n",
        "    def preprocessing(self, sequences):\n",
        "        result = []\n",
        "        '''\n",
        "        문제 1-1.\n",
        "        '''\n",
        "        for seq in sequences:\n",
        "            word_seq = text_to_word_sequence(seq)\n",
        "            result.append(word_seq)\n",
        "        return result\n",
        "  \n",
        "    def fit(self, sequences):\n",
        "        self.fit_checker = False\n",
        "        '''\n",
        "        문제 1-2.\n",
        "        '''\n",
        "        tokens = self.preprocessing(sequences)\n",
        "        base = []\n",
        "        for tok in tokens:\n",
        "            base.extend(tok)\n",
        "        uni_token = pd.Series(base).unique()\n",
        "        key_lst = list(uni_token)\n",
        "\n",
        "        for idx, key in zip(range(len(key_lst)), key_lst):\n",
        "            self.word_dict[key] = idx+1\n",
        "        self.fit_checker = True\n",
        "  \n",
        "    def transform(self, sequences):\n",
        "        result = []\n",
        "        tokens = self.preprocessing(sequences)\n",
        "        if self.fit_checker:\n",
        "            '''\n",
        "            문제 1-3.\n",
        "            '''\n",
        "            for tok in tokens:\n",
        "                tokidx = [self.word_dict[i] for i in tok]\n",
        "                result.append(tokidx)\n",
        "            return result\n",
        "        else:\n",
        "            raise Exception(\"Tokenizer instance is not fitted yet.\")\n",
        "      \n",
        "    def fit_transform(self, sequences):\n",
        "        self.fit(sequences)\n",
        "        result = self.transform(sequences)\n",
        "        return result"
      ],
      "metadata": {
        "id": "mmeODGSQrgNk"
      },
      "execution_count": 2,
      "outputs": []
    },
    {
      "cell_type": "markdown",
      "source": [
        "<h3> &nbsp; ✅ 실행 결과 확인\n",
        "\n",
        "\n"
      ],
      "metadata": {
        "id": "Uv5Ws3itY7eE"
      }
    },
    {
      "cell_type": "code",
      "source": [
        "tokenizer = Tokenizer()\n",
        "lst =  ['I go to school.', 'I LIKE pizza!']\n",
        "tokenizer.fit_transform(lst)"
      ],
      "metadata": {
        "colab": {
          "base_uri": "https://localhost:8080/"
        },
        "id": "L1x5n_FUYHen",
        "outputId": "5cb917ea-e21b-433e-a095-3fbc5dea2257"
      },
      "execution_count": 3,
      "outputs": [
        {
          "output_type": "execute_result",
          "data": {
            "text/plain": [
              "[[1, 2, 3, 4], [1, 5, 6]]"
            ]
          },
          "metadata": {},
          "execution_count": 3
        }
      ]
    },
    {
      "cell_type": "markdown",
      "source": [
        "# 문제 2) TfidfVectorizer 생성하기"
      ],
      "metadata": {
        "id": "adADx7VCZZ7U"
      }
    },
    {
      "cell_type": "code",
      "source": [
        "class TfidfVectorizer:\n",
        "    def __init__(self, tokenizer):\n",
        "        self.tokenizer = tokenizer\n",
        "        self.fit_checker = False\n",
        "        self.idf_lst = []\n",
        "        self.tfidf_matrix = []\n",
        "        self.final_token = -1\n",
        "  \n",
        "    def fit(self, sequences):\n",
        "        tokenized = self.tokenizer.fit_transform(sequences)\n",
        "        '''\n",
        "        문제 2-1.\n",
        "        '''\n",
        "        # 마지막 token 값 찾기\n",
        "        final_tok = -1\n",
        "        for tok in tokenized:\n",
        "            tok_max = max(tok)\n",
        "            final_tok = max(final_tok, tok_max)\n",
        "        self.final_token = final_tok\n",
        "\n",
        "        # token 별 idf 구하기\n",
        "        for no in range(final_tok):\n",
        "            n_n = len(tokenized)\n",
        "            df = 0\n",
        "            for tok in tokenized:\n",
        "                df += (no+1) in tok\n",
        "            idf = log(n_n/(1+df))\n",
        "            self.idf_lst.append(idf)\n",
        "        self.fit_checker = True\n",
        "    \n",
        "\n",
        "    def transform(self, sequences):\n",
        "        if self.fit_checker:\n",
        "            tokenized = self.tokenizer.transform(sequences)\n",
        "            '''\n",
        "            문제 2-2.\n",
        "            '''\n",
        "            # 문장 별 tf 생성\n",
        "            tf_lst = []\n",
        "            for tok in tokenized:\n",
        "                tf = [tok.count(idx+1) for idx in range(self.final_token)]\n",
        "                tf_lst.append(tf)\n",
        "            \n",
        "            # tf-idf matrix 생성\n",
        "            for tf in tf_lst:\n",
        "                tf = np.array(tf)\n",
        "                idf = np.array(self.idf_lst)\n",
        "                self.tfidf_matrix.append(list(tf*idf))\n",
        "            return self.tfidf_matrix\n",
        "        else:\n",
        "            raise Exception(\"TfidfVectorizer instance is not fitted yet.\")\n",
        "\n",
        "\n",
        "    def fit_transform(self, sequences):\n",
        "        self.fit(sequences)\n",
        "        return self.transform(sequences)"
      ],
      "metadata": {
        "id": "EwfywXUaJCiF"
      },
      "execution_count": 8,
      "outputs": []
    },
    {
      "cell_type": "markdown",
      "source": [
        "<h3> &nbsp; ✅ 실행 결과 확인\n"
      ],
      "metadata": {
        "id": "EPB4QSG8EnNR"
      }
    },
    {
      "cell_type": "code",
      "source": [
        "tfid = TfidfVectorizer(tokenizer)\n",
        "tfid.fit_transform(lst)"
      ],
      "metadata": {
        "colab": {
          "base_uri": "https://localhost:8080/"
        },
        "id": "t8RDLPC2DByU",
        "outputId": "39ff2f8c-f96a-42ef-cfe0-5c0475fdfeed"
      },
      "execution_count": 9,
      "outputs": [
        {
          "output_type": "execute_result",
          "data": {
            "text/plain": [
              "[[-0.40546510810816444, 0.0, 0.0, 0.0, 0.0, 0.0],\n",
              " [-0.40546510810816444, 0.0, 0.0, 0.0, 0.0, 0.0]]"
            ]
          },
          "metadata": {},
          "execution_count": 9
        }
      ]
    }
  ]
}